{
 "cells": [
  {
   "cell_type": "code",
   "execution_count": 1,
   "metadata": {},
   "outputs": [],
   "source": [
    "import numpy as np\n",
    "import pandas as pd"
   ]
  },
  {
   "cell_type": "code",
   "execution_count": 2,
   "metadata": {},
   "outputs": [
    {
     "name": "stdout",
     "output_type": "stream",
     "text": [
      "           name   radiant bestmonth startmonth  startday  endmonth  endday  \\\n",
      "0        Lyrids      Lyra     april      april        21     april      22   \n",
      "1  Eta Aquarids  Aquarius       may      april        19       may      28   \n",
      "2      Orionids     Orion   october    october         2  november       7   \n",
      "3      Perseids   Perseus    august       july        14    august      24   \n",
      "4       Leonids       Leo  november   november         6  november      30   \n",
      "\n",
      "           hemisphere preferredhemisphere  \n",
      "0            northern            northern  \n",
      "1  northern, southern            southern  \n",
      "2  northern, southern  northern, southern  \n",
      "3            northern            northern  \n",
      "4  northern, southern  northern, southern  \n"
     ]
    }
   ],
   "source": [
    "meteor_showers = pd.read_csv('E:/Coding/Major/Predict-meteor-showers-using-Python-main/data/meteorshowers.csv')\n",
    "moon_phases = pd.read_csv('E:/Coding/Major/Predict-meteor-showers-using-Python-main/data/moonphases.csv')\n",
    "constellations = pd.read_csv('E:/Coding/Major/Predict-meteor-showers-using-Python-main/data/constellations.csv')\n",
    "cities = pd.read_csv('E:/Coding/Major/Predict-meteor-showers-using-Python-main/data/cities.csv')\n",
    "print(meteor_showers)"
   ]
  },
  {
   "cell_type": "code",
   "execution_count": 3,
   "metadata": {},
   "outputs": [],
   "source": [
    "months = {'january':1, 'february':2, 'march':3, 'april':4, 'may':5, 'june':6, 'july':7, \n",
    "'august':8, 'september':9, 'october':10, 'november':11, 'december':12}"
   ]
  },
  {
   "cell_type": "code",
   "execution_count": 4,
   "metadata": {},
   "outputs": [
    {
     "data": {
      "text/plain": [
       "{'january': 1,\n",
       " 'february': 2,\n",
       " 'march': 3,\n",
       " 'april': 4,\n",
       " 'may': 5,\n",
       " 'june': 6,\n",
       " 'july': 7,\n",
       " 'august': 8,\n",
       " 'september': 9,\n",
       " 'october': 10,\n",
       " 'november': 11,\n",
       " 'december': 12}"
      ]
     },
     "execution_count": 4,
     "metadata": {},
     "output_type": "execute_result"
    }
   ],
   "source": [
    "months"
   ]
  },
  {
   "cell_type": "code",
   "execution_count": 5,
   "metadata": {},
   "outputs": [],
   "source": [
    "meteor_showers.bestmonth = meteor_showers.bestmonth.map(months)\n",
    "meteor_showers.startmonth = meteor_showers.startmonth.map(months)\n",
    "meteor_showers.endmonth = meteor_showers.endmonth.map(months)\n",
    "moon_phases.month = moon_phases.month.map(months)\n",
    "constellations.bestmonth = constellations.bestmonth.map(months)"
   ]
  },
  {
   "cell_type": "code",
   "execution_count": 6,
   "metadata": {},
   "outputs": [],
   "source": [
    "meteor_showers['startdate'] = pd.to_datetime(2024*10000+meteor_showers.startmonth*100+meteor_showers.startday,\n",
    "format='%Y%m%d')"
   ]
  },
  {
   "cell_type": "code",
   "execution_count": 7,
   "metadata": {},
   "outputs": [],
   "source": [
    "meteor_showers['enddate'] = pd.to_datetime(2024*10000+meteor_showers.endmonth*100+meteor_showers.endday,\n",
    "format='%Y%m%d')"
   ]
  },
  {
   "cell_type": "code",
   "execution_count": 8,
   "metadata": {},
   "outputs": [],
   "source": [
    "moon_phases['date'] = pd.to_datetime(2024*10000+moon_phases.month*100+moon_phases.day,\n",
    "format='%Y%m%d')"
   ]
  },
  {
   "cell_type": "code",
   "execution_count": 9,
   "metadata": {},
   "outputs": [],
   "source": [
    "hemispheres = {'northern':0, 'southern':1, 'northen, southern':3}"
   ]
  },
  {
   "cell_type": "code",
   "execution_count": 10,
   "metadata": {},
   "outputs": [],
   "source": [
    "meteor_showers.hemisphere = meteor_showers.hemisphere.map(hemispheres)"
   ]
  },
  {
   "cell_type": "code",
   "execution_count": 11,
   "metadata": {},
   "outputs": [],
   "source": [
    "constellations.hemisphere = constellations.hemisphere.map(hemispheres)  "
   ]
  },
  {
   "cell_type": "code",
   "execution_count": 12,
   "metadata": {},
   "outputs": [],
   "source": [
    "phases = {'new moon':0, 'third quarter':0.5, 'first quarter':0.5, 'full moon':1.0}"
   ]
  },
  {
   "cell_type": "code",
   "execution_count": 13,
   "metadata": {},
   "outputs": [
    {
     "data": {
      "text/html": [
       "<div>\n",
       "<style scoped>\n",
       "    .dataframe tbody tr th:only-of-type {\n",
       "        vertical-align: middle;\n",
       "    }\n",
       "\n",
       "    .dataframe tbody tr th {\n",
       "        vertical-align: top;\n",
       "    }\n",
       "\n",
       "    .dataframe thead th {\n",
       "        text-align: right;\n",
       "    }\n",
       "</style>\n",
       "<table border=\"1\" class=\"dataframe\">\n",
       "  <thead>\n",
       "    <tr style=\"text-align: right;\">\n",
       "      <th></th>\n",
       "      <th>month</th>\n",
       "      <th>day</th>\n",
       "      <th>moonphase</th>\n",
       "      <th>specialevent</th>\n",
       "      <th>date</th>\n",
       "      <th>percentage</th>\n",
       "    </tr>\n",
       "  </thead>\n",
       "  <tbody>\n",
       "    <tr>\n",
       "      <th>0</th>\n",
       "      <td>1</td>\n",
       "      <td>1</td>\n",
       "      <td>NaN</td>\n",
       "      <td>NaN</td>\n",
       "      <td>2024-01-01</td>\n",
       "      <td>NaN</td>\n",
       "    </tr>\n",
       "    <tr>\n",
       "      <th>1</th>\n",
       "      <td>1</td>\n",
       "      <td>2</td>\n",
       "      <td>first quarter</td>\n",
       "      <td>NaN</td>\n",
       "      <td>2024-01-02</td>\n",
       "      <td>0.5</td>\n",
       "    </tr>\n",
       "    <tr>\n",
       "      <th>2</th>\n",
       "      <td>1</td>\n",
       "      <td>3</td>\n",
       "      <td>NaN</td>\n",
       "      <td>NaN</td>\n",
       "      <td>2024-01-03</td>\n",
       "      <td>NaN</td>\n",
       "    </tr>\n",
       "    <tr>\n",
       "      <th>3</th>\n",
       "      <td>1</td>\n",
       "      <td>4</td>\n",
       "      <td>NaN</td>\n",
       "      <td>NaN</td>\n",
       "      <td>2024-01-04</td>\n",
       "      <td>NaN</td>\n",
       "    </tr>\n",
       "    <tr>\n",
       "      <th>4</th>\n",
       "      <td>1</td>\n",
       "      <td>5</td>\n",
       "      <td>NaN</td>\n",
       "      <td>NaN</td>\n",
       "      <td>2024-01-05</td>\n",
       "      <td>NaN</td>\n",
       "    </tr>\n",
       "  </tbody>\n",
       "</table>\n",
       "</div>"
      ],
      "text/plain": [
       "   month  day      moonphase specialevent       date  percentage\n",
       "0      1    1            NaN          NaN 2024-01-01         NaN\n",
       "1      1    2  first quarter          NaN 2024-01-02         0.5\n",
       "2      1    3            NaN          NaN 2024-01-03         NaN\n",
       "3      1    4            NaN          NaN 2024-01-04         NaN\n",
       "4      1    5            NaN          NaN 2024-01-05         NaN"
      ]
     },
     "execution_count": 13,
     "metadata": {},
     "output_type": "execute_result"
    }
   ],
   "source": [
    "moon_phases['percentage'] = moon_phases.moonphase.map(phases)\n",
    "moon_phases.head()"
   ]
  },
  {
   "cell_type": "code",
   "execution_count": 14,
   "metadata": {},
   "outputs": [],
   "source": [
    "moon_phases = moon_phases.drop(['month','day','moonphase','specialevent'], axis=1)"
   ]
  },
  {
   "cell_type": "code",
   "execution_count": 15,
   "metadata": {},
   "outputs": [
    {
     "name": "stdout",
     "output_type": "stream",
     "text": [
      "<class 'pandas.core.frame.DataFrame'>\n",
      "RangeIndex: 366 entries, 0 to 365\n",
      "Data columns (total 2 columns):\n",
      " #   Column      Non-Null Count  Dtype         \n",
      "---  ------      --------------  -----         \n",
      " 0   date        366 non-null    datetime64[ns]\n",
      " 1   percentage  366 non-null    float64       \n",
      "dtypes: datetime64[ns](1), float64(1)\n",
      "memory usage: 5.8 KB\n"
     ]
    }
   ],
   "source": [
    "lastPhase = 0\n",
    "\n",
    "for index, row in moon_phases.iterrows():\n",
    "    if pd.isnull(row['percentage']):\n",
    "        moon_phases.at[index,'percentage'] = lastPhase\n",
    "    else:\n",
    "        lastPhase = row['percentage']\n",
    "\n",
    "moon_phases.info()"
   ]
  },
  {
   "cell_type": "code",
   "execution_count": 16,
   "metadata": {},
   "outputs": [],
   "source": [
    "meteor_showers = meteor_showers.drop(['startmonth','startday','endmonth','endday', 'hemisphere'], axis=1)"
   ]
  },
  {
   "cell_type": "code",
   "execution_count": 17,
   "metadata": {},
   "outputs": [],
   "source": [
    "constellations = constellations.drop(['besttime'], axis=1)"
   ]
  },
  {
   "cell_type": "code",
   "execution_count": 18,
   "metadata": {},
   "outputs": [
    {
     "name": "stdout",
     "output_type": "stream",
     "text": [
      "<class 'pandas.core.frame.DataFrame'>\n",
      "RangeIndex: 5 entries, 0 to 4\n",
      "Data columns (total 6 columns):\n",
      " #   Column               Non-Null Count  Dtype         \n",
      "---  ------               --------------  -----         \n",
      " 0   name                 5 non-null      object        \n",
      " 1   radiant              5 non-null      object        \n",
      " 2   bestmonth            5 non-null      int64         \n",
      " 3   preferredhemisphere  5 non-null      object        \n",
      " 4   startdate            5 non-null      datetime64[ns]\n",
      " 5   enddate              5 non-null      datetime64[ns]\n",
      "dtypes: datetime64[ns](2), int64(1), object(3)\n",
      "memory usage: 372.0+ bytes\n"
     ]
    }
   ],
   "source": [
    "meteor_showers.info()"
   ]
  },
  {
   "cell_type": "code",
   "execution_count": 19,
   "metadata": {},
   "outputs": [
    {
     "name": "stdout",
     "output_type": "stream",
     "text": [
      "<class 'pandas.core.frame.DataFrame'>\n",
      "RangeIndex: 366 entries, 0 to 365\n",
      "Data columns (total 2 columns):\n",
      " #   Column      Non-Null Count  Dtype         \n",
      "---  ------      --------------  -----         \n",
      " 0   date        366 non-null    datetime64[ns]\n",
      " 1   percentage  366 non-null    float64       \n",
      "dtypes: datetime64[ns](1), float64(1)\n",
      "memory usage: 5.8 KB\n"
     ]
    }
   ],
   "source": [
    "moon_phases.info()"
   ]
  },
  {
   "cell_type": "code",
   "execution_count": 20,
   "metadata": {},
   "outputs": [
    {
     "name": "stdout",
     "output_type": "stream",
     "text": [
      "<class 'pandas.core.frame.DataFrame'>\n",
      "RangeIndex: 256 entries, 0 to 255\n",
      "Data columns (total 3 columns):\n",
      " #   Column    Non-Null Count  Dtype  \n",
      "---  ------    --------------  -----  \n",
      " 0   city      256 non-null    object \n",
      " 1   latitude  256 non-null    float64\n",
      " 2   country   256 non-null    object \n",
      "dtypes: float64(1), object(2)\n",
      "memory usage: 6.1+ KB\n"
     ]
    }
   ],
   "source": [
    "cities.info()"
   ]
  },
  {
   "cell_type": "code",
   "execution_count": 21,
   "metadata": {},
   "outputs": [
    {
     "name": "stdout",
     "output_type": "stream",
     "text": [
      "<class 'pandas.core.frame.DataFrame'>\n",
      "RangeIndex: 5 entries, 0 to 4\n",
      "Data columns (total 5 columns):\n",
      " #   Column         Non-Null Count  Dtype \n",
      "---  ------         --------------  ----- \n",
      " 0   constellation  5 non-null      object\n",
      " 1   bestmonth      5 non-null      int64 \n",
      " 2   latitudestart  5 non-null      int64 \n",
      " 3   latitudeend    5 non-null      int64 \n",
      " 4   hemisphere     5 non-null      int64 \n",
      "dtypes: int64(4), object(1)\n",
      "memory usage: 332.0+ bytes\n"
     ]
    }
   ],
   "source": [
    "constellations.info()"
   ]
  },
  {
   "cell_type": "code",
   "execution_count": 22,
   "metadata": {},
   "outputs": [
    {
     "name": "stdout",
     "output_type": "stream",
     "text": [
      "Latitude of Algiers: 36.77\n",
      "Constellations visible from Algiers: ['Lyra', 'Aquarius', 'Orion', 'Perseus']\n",
      "Meteor showers for constellation Lyra:      name radiant  bestmonth preferredhemisphere  startdate    enddate\n",
      "0  Lyrids    Lyra          4            northern 2024-04-21 2024-04-22\n",
      "Meteor showers for constellation Aquarius:            name   radiant  bestmonth preferredhemisphere  startdate    enddate\n",
      "1  Eta Aquarids  Aquarius          5            southern 2024-04-19 2024-05-28\n",
      "Meteor showers for constellation Orion:        name radiant  bestmonth preferredhemisphere  startdate    enddate\n",
      "2  Orionids   Orion         10  northern, southern 2024-10-02 2024-11-07\n",
      "Meteor showers for constellation Perseus:        name  radiant  bestmonth preferredhemisphere  startdate    enddate\n",
      "3  Perseids  Perseus          8            northern 2024-07-14 2024-08-24\n",
      "Lyrids is best seen if you look towards the Lyra constellation on April 22, 2024.\n",
      "Eta Aquarids is best seen if you look towards the Aquarius constellation on April 22, 2024.\n",
      "Orionids is best seen if you look towards the Orion constellation on October 16, 2024.\n",
      "Perseids is best seen if you look towards the Perseus constellation on July 20, 2024.\n",
      "\n"
     ]
    }
   ],
   "source": [
    "\n",
    "def predict_best_meteor_shower_viewing(city):\n",
    "    meteor_shower_string = \"\"\n",
    "\n",
    "    if city not in cities['city'].values:\n",
    "        meteor_shower_string = \"Unfortunately, \" + city + \" isn't available for a prediction at this time.\"\n",
    "        return meteor_shower_string\n",
    "\n",
    "    latitude = cities.loc[cities['city'] == city, 'latitude'].iloc[0]\n",
    "    print(f\"Latitude of {city}: {latitude}\")\n",
    "\n",
    "    constellation_list = constellations.loc[\n",
    "        (constellations['latitudestart'] >= latitude) & \n",
    "        (constellations['latitudeend'] <= latitude), 'constellation'].tolist()\n",
    "    print(f\"Constellations visible from {city}: {constellation_list}\")\n",
    "\n",
    "    if not constellation_list:\n",
    "        meteor_shower_string = \"Unfortunately, there are no meteor showers viewable from \" + city + \".\"\n",
    "        return meteor_shower_string\n",
    "\n",
    "    for constellation in constellation_list:\n",
    "        meteor_shower_data = meteor_showers.loc[meteor_showers['radiant'] == constellation]\n",
    "        print(f\"Meteor showers for constellation {constellation}: {meteor_shower_data}\")\n",
    "\n",
    "        if meteor_shower_data.empty:\n",
    "            continue\n",
    "\n",
    "        meteor_shower = meteor_shower_data['name'].iloc[0]\n",
    "        meteor_shower_startdate = meteor_shower_data['startdate'].iloc[0]\n",
    "        meteor_shower_enddate = meteor_shower_data['enddate'].iloc[0]\n",
    "\n",
    "        moon_phases_list = moon_phases.loc[\n",
    "            (moon_phases['date'] >= meteor_shower_startdate) & \n",
    "            (moon_phases['date'] <= meteor_shower_enddate)]\n",
    "    \n",
    "\n",
    "        if moon_phases_list.empty:\n",
    "            continue\n",
    "\n",
    "        if meteor_shower == 'Chang\\'e':\n",
    "            best_moon_date = moon_phases_list.loc[moon_phases_list['percentage'].idxmax()]['date']\n",
    "            meteor_shower_string += \"Though the Moon will be bright, \" + meteor_shower + \"'s meteor shower is best seen if you look towards the \" + constellation + \" constellation on \" + best_moon_date.to_pydatetime().strftime(\"%B %d, %Y\") + \".\\n\"\n",
    "        else:\n",
    "            best_moon_date = moon_phases_list.loc[moon_phases_list['percentage'].idxmin()]['date']\n",
    "            meteor_shower_string += meteor_shower + \" is best seen if you look towards the \" + constellation + \" constellation on \" + best_moon_date.to_pydatetime().strftime(\"%B %d, %Y\") + \".\\n\"\n",
    "\n",
    "    if not meteor_shower_string:\n",
    "        meteor_shower_string = \"Unfortunately, no meteor showers are available for viewing from \" + city + \" at this time.\"\n",
    "\n",
    "    return meteor_shower_string\n",
    "\n",
    "print(predict_best_meteor_shower_viewing(\"Algiers\"))\n"
   ]
  },
  {
   "cell_type": "code",
   "execution_count": 23,
   "metadata": {},
   "outputs": [
    {
     "name": "stdout",
     "output_type": "stream",
     "text": [
      "Latitude of Reykjavik: 64.13\n",
      "Constellations visible from Reykjavik: ['Lyra', 'Aquarius', 'Orion', 'Perseus']\n",
      "Meteor showers for constellation Lyra:      name radiant  bestmonth preferredhemisphere  startdate    enddate\n",
      "0  Lyrids    Lyra          4            northern 2024-04-21 2024-04-22\n",
      "Meteor showers for constellation Aquarius:            name   radiant  bestmonth preferredhemisphere  startdate    enddate\n",
      "1  Eta Aquarids  Aquarius          5            southern 2024-04-19 2024-05-28\n",
      "Meteor showers for constellation Orion:        name radiant  bestmonth preferredhemisphere  startdate    enddate\n",
      "2  Orionids   Orion         10  northern, southern 2024-10-02 2024-11-07\n",
      "Meteor showers for constellation Perseus:        name  radiant  bestmonth preferredhemisphere  startdate    enddate\n",
      "3  Perseids  Perseus          8            northern 2024-07-14 2024-08-24\n",
      "Lyrids is best seen if you look towards the Lyra constellation on April 22, 2024.\n",
      "Eta Aquarids is best seen if you look towards the Aquarius constellation on April 22, 2024.\n",
      "Orionids is best seen if you look towards the Orion constellation on October 16, 2024.\n",
      "Perseids is best seen if you look towards the Perseus constellation on July 20, 2024.\n",
      "\n"
     ]
    }
   ],
   "source": [
    "print(predict_best_meteor_shower_viewing(\"Reykjavik\"))"
   ]
  }
 ],
 "metadata": {
  "kernelspec": {
   "display_name": "Python 3.11.5 64-bit",
   "language": "python",
   "name": "python3"
  },
  "language_info": {
   "codemirror_mode": {
    "name": "ipython",
    "version": 3
   },
   "file_extension": ".py",
   "mimetype": "text/x-python",
   "name": "python",
   "nbconvert_exporter": "python",
   "pygments_lexer": "ipython3",
   "version": "3.11.5"
  },
  "orig_nbformat": 4,
  "vscode": {
   "interpreter": {
    "hash": "9c5fe481c04dd5da61446621ece5e0001281882f4229c3540a72a7237a355a48"
   }
  }
 },
 "nbformat": 4,
 "nbformat_minor": 2
}
