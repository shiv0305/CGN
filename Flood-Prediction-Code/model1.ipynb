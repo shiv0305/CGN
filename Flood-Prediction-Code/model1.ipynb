{
 "cells": [
  {
   "cell_type": "code",
   "execution_count": 2,
   "metadata": {},
   "outputs": [],
   "source": [
    "import pandas as pd\n",
    "import matplotlib.pyplot as plt\n",
    "import pickle"
   ]
  },
  {
   "cell_type": "code",
   "execution_count": 3,
   "metadata": {},
   "outputs": [
    {
     "data": {
      "image/png": "[encoded data removed]",
      "text/plain": [
       "<Figure size 640x480 with 1 Axes>"
      ]
     },
     "metadata": {},
     "output_type": "display_data"
    }
   ],
   "source": [
    "import numpy as np\n",
    "x=pd.read_csv(\"E:/Coding/Major/Flood-Prediction-Code/uttarakhand.csv\")\n",
    "y=pd.read_csv(\"E:/Coding/Major/Flood-Prediction-Code/uttarakhand.csv\")\n",
    "\n",
    "y1=list(x[\"YEAR\"])\n",
    "x1=list(x[\"Jun-Sep\"])\n",
    "z1=list(x[\"JUN\"])\n",
    "w1=list(x[\"MAY\"])\n",
    "plt.bar(y1,x1)\n",
    "plt.show()"
   ]
  },
  {
   "cell_type": "code",
   "execution_count": 4,
   "metadata": {},
   "outputs": [
    {
     "name": "stdout",
     "output_type": "stream",
     "text": [
      "     SUBDIVISION  YEAR    JAN    FEB    MAR   APR   MAY    JUN    JUL    AUG  \\\n",
      "0    UTTARAKHAND  1901  134.5   81.4   44.5   5.9  60.8   33.6  381.1  612.3   \n",
      "1    UTTARAKHAND  1902    0.0   17.0   52.2  63.7  52.1  113.1  444.1  327.5   \n",
      "2    UTTARAKHAND  1903   68.0    7.9   87.6  10.3  37.5   83.0  251.6  442.7   \n",
      "3    UTTARAKHAND  1904   40.0    5.2   78.3  13.6  61.1  180.1  449.6  417.2   \n",
      "4    UTTARAKHAND  1905  115.4   80.7   99.8  26.1  70.3  111.5  299.9  349.5   \n",
      "..           ...   ...    ...    ...    ...   ...   ...    ...    ...    ...   \n",
      "110  UTTARAKHAND  2011   30.9   65.2   18.0  30.9  84.2  223.1  433.3  523.7   \n",
      "111  UTTARAKHAND  2012   38.8   11.9   28.1  39.2   9.1   46.0  387.1  419.5   \n",
      "112  UTTARAKHAND  2013   73.0  188.3   22.0  24.7  18.2  488.9  413.4  359.4   \n",
      "113  UTTARAKHAND  2014   45.9   99.9   68.4  37.6  52.9   62.9  462.7  264.2   \n",
      "114  UTTARAKHAND  2015   54.5   62.6  127.3  57.3  38.0  186.6  337.0  305.3   \n",
      "\n",
      "     ...   NOV   DEC  ANNUAL  Jan-Feb  Mar-May  Jun-Sep  Oct-Dec  flood  \\\n",
      "0    ...   0.0  24.9  1562.5    215.9    111.3   1194.1     41.3      0   \n",
      "1    ...   2.1   0.0  1324.2     17.1    168.1   1105.1     34.0      0   \n",
      "2    ...   0.0  11.3  1306.5     75.9    135.4   1026.5     68.7      0   \n",
      "3    ...  35.6  31.0  1492.0     45.2    153.0   1221.0     72.9      1   \n",
      "4    ...   1.0  18.5  1302.1    196.0    196.2    890.4     19.5      0   \n",
      "..   ...   ...   ...     ...      ...      ...      ...      ...    ...   \n",
      "110  ...   1.2   2.3  1564.7     96.1    133.1   1328.5      6.9      1   \n",
      "111  ...   3.4  15.5  1223.9     50.8     76.4   1073.1     23.6      0   \n",
      "112  ...   3.2   3.8  1735.4    261.3     65.0   1373.0     36.2      1   \n",
      "113  ...   0.0  44.3  1287.4    145.8    158.8    897.7     85.1      0   \n",
      "114  ...   2.4   7.2  1247.6    117.0    222.6    881.5     26.4      0   \n",
      "\n",
      "        avgjune    sub  \n",
      "0     11.200000   27.2  \n",
      "1     37.700000   61.0  \n",
      "2     27.666667   45.5  \n",
      "3     60.033333  119.0  \n",
      "4     37.166667   41.2  \n",
      "..          ...    ...  \n",
      "110   74.366667  138.9  \n",
      "111   15.333333   36.9  \n",
      "112  162.966667  470.7  \n",
      "113   20.966667   10.0  \n",
      "114   62.200000  148.6  \n",
      "\n",
      "[115 rows x 22 columns]\n"
     ]
    }
   ],
   "source": [
    "flood=[]\n",
    "june=[]\n",
    "sub=[]\n",
    "\n",
    "#CREATING A NEW COLOUMN WITH BINARY CLASSIFICATION DEPENDING IF THAT YEAR HAD FLOODED OR NOT, USING RAINFALL OF THAT YEAR AS THRESHOLD\n",
    "#print(x1[114])\n",
    "for i in range(0,len(x1)):\n",
    "    if x1[i]>1200:\n",
    "        flood.append('1')\n",
    "    else:\n",
    "        flood.append('0')\n",
    "\n",
    "#APPROAXIMATELY FINDING THE RAINFALL DATA FOR 10 DAYS FOR THE MONTH OF JUNE IN EVERY YEAR FROM 1901 TO 2015\n",
    "for k in range(0,len(x1)):\n",
    "    june.append(z1[k]/3)\n",
    "\n",
    "#FINDING THE INCREASE IN RAINFALL FROM THE MONTH OF MAY TO THE MONTH OF JUNE IN EVERY YEAR FROM 1901 TO 2015\n",
    "for k in range(0,len(x1)):\n",
    "    sub.append(abs(w1[k]-z1[k]))\n",
    "\n",
    "df = pd.DataFrame({'flood':flood})\n",
    "df1=pd.DataFrame({'per_10_days':june})\n",
    "\n",
    "x[\"flood\"]=flood\n",
    "x[\"avgjune\"]=june\n",
    "x[\"sub\"]=sub\n",
    "\n",
    "#SAVING THE NEW CSV FILE WITH THE NEW COLOUMNS\n",
    "x.to_csv(\"out2.csv\")\n",
    "print((x))\n",
    "        \n",
    "        \n",
    "      \n",
    "\n",
    "\n"
   ]
  },
  {
   "cell_type": "code",
   "execution_count": 5,
   "metadata": {},
   "outputs": [],
   "source": [
    "import scipy \n",
    "from scipy.stats import spearmanr\n",
    "\n",
    "from sklearn.ensemble import RandomForestClassifier\n",
    "from sklearn.preprocessing import scale\n",
    "from sklearn.neighbors import KNeighborsClassifier\n",
    "from sklearn.model_selection import train_test_split\n",
    "from sklearn import preprocessing"
   ]
  },
  {
   "cell_type": "code",
   "execution_count": 6,
   "metadata": {},
   "outputs": [
    {
     "name": "stdout",
     "output_type": "stream",
     "text": [
      "0.8956521739130435\n"
     ]
    }
   ],
   "source": [
    "\n",
    "\n",
    "#TAKING THE COLOUMNS WHICH ARE TO USED FOR TRAINING THE MODEL\n",
    "#16 MAR-MAY\n",
    "#20- AVG OF 10 DAYS JUNE \n",
    "#21- DIFFERENCE OF RAINFALL FROM MAY TO JUNE\n",
    "#19 - BINARY CLASS OF FLOOD- 0 OR 1\n",
    "#MORE DATA CAN BE ADDED FOR TRAINING, BY JUST ADDING MORE NUMBER OF COLOUMNS FROM THE CSV FILE\n",
    "\n",
    "#WE USE LOGISTIC REGRESSION FOR TRAINING\n",
    "idx = pd.IndexSlice\n",
    "X = x.iloc[:,[16,20,21]].values\n",
    "y=x.iloc[:,19].values\n",
    "\n",
    "(X_train, X_test, y_train, y_test) = train_test_split(X, y, random_state=0)\n",
    "\n",
    "\n",
    "#X1= scale(X)\n",
    "#print(X1)\n",
    "\n",
    "Ur=RandomForestClassifier()\n",
    "\n",
    "Ur.fit(X_train,y_train)\n",
    "print(Ur.score(X,y))  # PRINTS THE ACCURACY\n",
    "pickle.dump(Ur,open('model1.pkl','wb'))\n",
    "\n",
    "\n",
    "\n"
   ]
  },
  {
   "cell_type": "code",
   "execution_count": 7,
   "metadata": {},
   "outputs": [
    {
     "name": "stdout",
     "output_type": "stream",
     "text": [
      "1 - possibility of  severe flood\n"
     ]
    }
   ],
   "source": [
    "\n",
    "q1=175 # present years march to may rainfall data on average\n",
    "w1=135 #average rainfall in past 10 days of june\n",
    "e1=165 #average inscrease in rainfall from may to june \n",
    "\n",
    "l=[[q1,w1,e1]]\n",
    "\n",
    "#print(X)\n",
    "\n",
    "ypred=Ur.predict(X)\n",
    "f1=Ur.predict(l)\n",
    "\n",
    "for i in range(len(f1)):\n",
    "\n",
    "    if (int(f1[i])!=0):\n",
    "        print(f1[i],\"- possibility of  severe flood\")\n",
    "    else:\n",
    "        print(f1[i],\"- no chance of severe flood\")\n",
    "    \n",
    "        \n",
    "#print(\"data1 prediction\",f1[0],\"=\")\n",
    "#print(\"data2 prediction\",f1[1])"
   ]
  }
 ],
 "metadata": {
  "kernelspec": {
   "display_name": "Python 3.11.5 64-bit",
   "language": "python",
   "name": "python3"
  },
  "language_info": {
   "codemirror_mode": {
    "name": "ipython",
    "version": 3
   },
   "file_extension": ".py",
   "mimetype": "text/x-python",
   "name": "python",
   "nbconvert_exporter": "python",
   "pygments_lexer": "ipython3",
   "version": "3.11.5"
  },
  "orig_nbformat": 4,
  "vscode": {
   "interpreter": {
    "hash": "9c5fe481c04dd5da61446621ece5e0001281882f4229c3540a72a7237a355a48"
   }
  }
 },
 "nbformat": 4,
 "nbformat_minor": 2
}
