import numpy as np
x=pd.read_csv("E:/Coding/Python/Flood-prediction-master/approach1/kerala.csv")
y=pd.read_csv("E:/Coding/Python/Flood-prediction-master/approach1/kerala.csv")

y1=list(x["YEAR"])
x1=list(x["Jun-Sep"])
z1=list(x["JUN"])
w1=list(x["MAY"])
plt.bar(y1,x1)
plt.show()